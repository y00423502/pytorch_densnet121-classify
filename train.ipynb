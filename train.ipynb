{
 "cells": [
  {
   "cell_type": "markdown",
   "metadata": {},
   "source": [
    "# 导入需要的模块"
   ]
  },
  {
   "cell_type": "code",
   "execution_count": 1,
   "metadata": {},
   "outputs": [],
   "source": [
    "import sys\n",
    "sys.path.append(\"./lib\")\n",
    "import getopt #在外部使用参数传递\n",
    "import argparse"
   ]
  },
  {
   "cell_type": "code",
   "execution_count": null,
   "metadata": {},
   "outputs": [],
   "source": [
    "import torch\n",
    "import matplotlib.pyplot as plt\n",
    "import torchvision\n",
    "from torchvision import datasets, models, transforms\n",
    "import torch.nn as nn\n",
    "import torch.optim as optim\n",
    "from torch.optim import lr_scheduler\n",
    "import numpy as np\n",
    "import cv2\n",
    "import random\n",
    "import os\n",
    "import numpy as np\n",
    "import json\n",
    "import time\n",
    "import copy\n",
    "from PIL import Image\n",
    "from PIL import Image\n",
    "import extract_EmbedingFeature_densenet121 #这里这个包是基于原生densenet修改的返回值是分类结果，EmbedingFeature特征\n",
    "import sklearn"
   ]
  },
  {
   "cell_type": "markdown",
   "metadata": {},
   "source": [
    "# Data Pre_Process"
   ]
  },
  {
   "cell_type": "code",
   "execution_count": null,
   "metadata": {},
   "outputs": [],
   "source": [
    "'''\n",
    "Define data_transforms，将训练及测试验证的图片裁剪到256\n",
    "随机扩增并转换到tensor,(256,256,3)-->（3,256,256） 并将（0，255）->归一化到 (0,1)\n",
    "transforms.Normalize做规范化，(0,1)-->(-1,1),加速收敛，防止梯度消失\n",
    "'''\n",
    "\n",
    "data_transforms = {\n",
    "    'train': transforms.Compose([\n",
    "        transforms.RandomResizedCrop(256, scale=(0.5, 1.0), ratio=(0.8, 1.2)),\n",
    "        transforms.RandomHorizontalFlip(),\n",
    "        transforms.ToTensor(),\n",
    "        transforms.Normalize([0.485, 0.456, 0.406], [0.229, 0.224, 0.225])\n",
    "    ]),\n",
    "    'val': transforms.Compose([\n",
    "        transforms.Resize(256),\n",
    "        transforms.ToTensor(),\n",
    "        transforms.Normalize([0.485, 0.456, 0.406], [0.229, 0.224, 0.225])\n",
    "    ]),\n",
    "}\n",
    "\n"
   ]
  },
  {
   "cell_type": "markdown",
   "metadata": {},
   "source": [
    "# Load Data"
   ]
  },
  {
   "cell_type": "code",
   "execution_count": null,
   "metadata": {},
   "outputs": [],
   "source": [
    "'''\n",
    "给出data路径\n",
    "文件格式，czx_fire_30k路径下有三个文件夹\n",
    "- train\n",
    "------fire\n",
    "------nofire\n",
    "- val\n",
    "------fire\n",
    "------nofire\n",
    "- test\n",
    "------fire\n",
    "------nofire\n",
    "'''\n",
    "\n",
    "#data_dir = './data/czx_fire_30k'\n",
    "image_datasets = {x: datasets.ImageFolder(os.path.join(data_dir, x),\n",
    "                                          data_transforms[x])\n",
    "                  for x in ['train', 'val']}\n",
    "dataloaders = {x: torch.utils.data.DataLoader(image_datasets[x], batch_size=32,\n",
    "                                             shuffle=True, num_workers=8)\n",
    "              for x in ['train', 'val']}\n",
    "dataset_sizes = {x: len(image_datasets[x]) for x in ['train', 'val']}\n",
    "class_names = image_datasets['train'].classes\n",
    "print(class_names)"
   ]
  },
  {
   "cell_type": "markdown",
   "metadata": {},
   "source": [
    "# Imshow Image"
   ]
  },
  {
   "cell_type": "code",
   "execution_count": null,
   "metadata": {},
   "outputs": [],
   "source": [
    "#可自选打开\n",
    "def imshow(inp, title=None):\n",
    "    \"\"\"Imshow for Tensor.\"\"\"\n",
    "    inp = inp.numpy().transpose((1, 2, 0))\n",
    "    mean = np.array([0.485, 0.456, 0.406])\n",
    "    std = np.array([0.229, 0.224, 0.225])\n",
    "    inp = std * inp + mean\n",
    "    inp = np.clip(inp, 0, 1)\n",
    "    plt.imshow(inp)\n",
    "    if title is not None:\n",
    "        plt.title(title)\n",
    "    plt.pause(0.001)  # pause a bit so that plots are updated\n",
    "\n",
    "\n",
    "# Get a batch of training data\n",
    "inputs, classes = next(iter(dataloaders['train']))\n",
    "\n",
    "# Make a grid from batch\n",
    "out = torchvision.utils.make_grid(inputs)\n",
    "\n",
    "imshow(out, title=[class_names[x] for x in classes])"
   ]
  },
  {
   "cell_type": "markdown",
   "metadata": {},
   "source": [
    "# Define Train_Function"
   ]
  },
  {
   "cell_type": "code",
   "execution_count": null,
   "metadata": {},
   "outputs": [],
   "source": [
    "def train_model(model, criterion, optimizer, scheduler, num_epochs=500):\n",
    "    since = time.time()\n",
    "    best_model_wts = copy.deepcopy(model.state_dict())\n",
    "    best_acc = 0.0\n",
    "    for epoch in range(num_epochs):\n",
    "        print('Epoch {}/{}'.format(epoch, num_epochs - 1))\n",
    "        print('-' * 10)\n",
    "        # Each epoch has a training and validation phase\n",
    "        for phase in ['train', 'val']:\n",
    "            if phase == 'train':\n",
    "                model.train()  # Set model to training mode\n",
    "            else:\n",
    "                model.eval()   # Set model to evaluate mode\n",
    "            running_loss = 0.0\n",
    "            running_corrects = 0\n",
    "            for inputs, labels in dataloaders[phase]:\n",
    "                inputs = inputs.to(device)\n",
    "                labels = labels.to(device)\n",
    "                optimizer.zero_grad()\n",
    "                with torch.set_grad_enabled(phase == 'train'):\n",
    "                    outputs,feature = model(inputs)    #如果是normal模式，打开这句，注释下面一句\n",
    "#                     print(outputs.shape)\n",
    "#                     print(feature.shape)\n",
    "                    #outputs,embedding_tensor = model(inputs)\n",
    "                    _, preds = torch.max(outputs, 1)\n",
    "                    loss = criterion(outputs, labels)\n",
    "                    if phase == 'train':\n",
    "                        loss.backward()\n",
    "                        optimizer.step()\n",
    "                # statistics\n",
    "                running_loss += loss.item() * inputs.size(0)\n",
    "                running_corrects += torch.sum(preds == labels.data)\n",
    "            if phase == 'train':\n",
    "                scheduler.step()\n",
    "\n",
    "            epoch_loss = running_loss / dataset_sizes[phase]\n",
    "            epoch_acc = running_corrects.double() / dataset_sizes[phase]\n",
    "            print('{} Loss: {:.4f} Acc: {:.4f}'.format(\n",
    "                phase, epoch_loss, epoch_acc))\n",
    "            # deep copy the model\n",
    "            if phase == 'val' and epoch_acc > best_acc:\n",
    "                best_acc = epoch_acc\n",
    "                best_model_wts = copy.deepcopy(model.state_dict())\n",
    "        time_elapsed = time.time() - since\n",
    "        print('Training loop complete in {:.0f}m {:.0f}s'.format(\n",
    "            time_elapsed // 60, time_elapsed % 60))\n",
    "        #这里是选择每间隔10epoch保存一个模型，这个可以根据模型训练时间选择\n",
    "        if epoch>0 and epoch % 10 == 0:\n",
    "            save_path='./output_models/extract_EmbedingFeature/czx_fire_30k/'            #保存模型的路径根据需要修改\n",
    "            torch.save(model.state_dict(),save_path+'%d.pth' % (epoch))\n",
    "            print('save done')\n",
    "\n",
    "    time_elapsed = time.time() - since\n",
    "    print('Training complete in {:.0f}m {:.0f}s'.format(\n",
    "        time_elapsed // 60, time_elapsed % 60))\n",
    "    print('Best val Acc: {:4f}'.format(best_acc))\n",
    "\n",
    "    # load best model weights\n",
    "    model.load_state_dict(best_model_wts)\n",
    "    return model                          #返回500epoch中最佳的模型"
   ]
  },
  {
   "cell_type": "markdown",
   "metadata": {},
   "source": [
    "# 可视化验证分类结果 （可选）"
   ]
  },
  {
   "cell_type": "code",
   "execution_count": null,
   "metadata": {},
   "outputs": [],
   "source": [
    "#  def visualize_model(model, num_images=20):    #这里的20可以根据需要更改展示的图片数\n",
    "#     was_training = model.training\n",
    "#     model.eval()\n",
    "#     images_so_far = 0\n",
    "#     fig = plt.figure()\n",
    "#     with torch.no_grad():\n",
    "#         for i, (inputs, labels) in enumerate(dataloaders['val']):\n",
    "#             inputs = inputs.to(device)\n",
    "#             labels = labels.to(device)\n",
    "#             outputs = model(inputs)\n",
    "#             _, preds = torch.max(outputs, 1)\n",
    "#             for j in range(inputs.size()[0]):\n",
    "#                 images_so_far += 1\n",
    "#                 ax = plt.subplot(num_images//2, 2, images_so_far)\n",
    "#                 ax.axis('off')\n",
    "#                 ax.set_title('predicted: {}'.format(class_names[preds[j]]))\n",
    "#                 imshow(inputs.cpu().data[j])\n",
    "#                 if images_so_far == num_images:\n",
    "#                     model.train(mode=was_training)\n",
    "#                     return\n",
    "#         model.train(mode=was_training)"
   ]
  },
  {
   "cell_type": "markdown",
   "metadata": {},
   "source": [
    "# Define Network && Load Pretrained Models"
   ]
  },
  {
   "cell_type": "code",
   "execution_count": null,
   "metadata": {},
   "outputs": [],
   "source": [
    "#Pretrained_model_path = \"../models/densenet121_fire_ep15.pth\"   这里可以选择是否载入预训练模型，我这里是从头训练，注释掉\n",
    "\n",
    "device = torch.device(\"cuda:0\" if torch.cuda.is_available() else \"cpu\")\n",
    "#如果是单gpu训练这里的cuda号对应使用哪块gpu训练\n",
    "\n",
    "#model = models.densenet121(pretrained=False)\n",
    "model = extract_EmbedingFeature_densenet121.densenet121(pretrained=False)  #这里如果是需要抽特征的用这句，test也是\n",
    "#如果是采用官方原版的densenet这里就需要把下面两行打开，更改分类头\n",
    "# num_ftrs = model.classifier.in_features\n",
    "# #更换分类头从1000类转到2类\n",
    "# model.classifier = nn.Linear(num_ftrs, 2)\n",
    "print(model) #可以打开查看网络结构\n",
    "\n",
    "#一般pytorch默认是单gpu训练，下面我们采用多gpu并行训练加快训练速度\n",
    "if torch.cuda.device_count() > 1:\n",
    "    #这里是训练加载多gpu的操作,默认是所有的gpu都用上\n",
    "    model = torch.nn.DataParallel(model) \n",
    "    #model = torch.nn.DataParallel(model, device_ids=[0,1])     #这里可以指定选择0，1两块gpu                                 \n",
    "    model = model.to(device)\n",
    "    #model_ft.load_state_dict(torch.load(Pretrained_model_path))  #如需要载入预训练模型加快训练速度，打开这句\n",
    "    criterion = nn.CrossEntropyLoss()\n",
    "    optimizer_ft = optim.SGD(model.parameters(), lr=0.001, momentum=0.9)\n",
    "    exp_lr_scheduler = lr_scheduler.StepLR(optimizer_ft, step_size=7, gamma=0.1)\n"
   ]
  },
  {
   "cell_type": "markdown",
   "metadata": {},
   "source": [
    "# Train"
   ]
  },
  {
   "cell_type": "code",
   "execution_count": null,
   "metadata": {},
   "outputs": [],
   "source": [
    "output_model_SavePath='./output_models/normal/czx_fire_30k/best_500epoch.pth'\n",
    "output_model= train_model(model, criterion, optimizer_ft, exp_lr_scheduler,num_epochs=500)\n",
    "\n",
    "#visualize_model(output_model) 可选\n",
    "\n",
    "torch.save(model_ft.state_dict(), output_model_SavePath)"
   ]
  },
  {
   "cell_type": "code",
   "execution_count": null,
   "metadata": {},
   "outputs": [],
   "source": []
  }
 ],
 "metadata": {
  "kernelspec": {
   "display_name": "Python 3",
   "language": "python",
   "name": "python3"
  },
  "language_info": {
   "codemirror_mode": {
    "name": "ipython",
    "version": 3
   },
   "file_extension": ".py",
   "mimetype": "text/x-python",
   "name": "python",
   "nbconvert_exporter": "python",
   "pygments_lexer": "ipython3",
   "version": "3.6.9"
  }
 },
 "nbformat": 4,
 "nbformat_minor": 4
}
