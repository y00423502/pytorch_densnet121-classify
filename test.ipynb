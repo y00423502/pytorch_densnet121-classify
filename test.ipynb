{
 "cells": [
  {
   "cell_type": "markdown",
   "metadata": {},
   "source": [
    "# 导入需要的模块"
   ]
  },
  {
   "cell_type": "code",
   "execution_count": null,
   "metadata": {},
   "outputs": [],
   "source": [
    "import sys\n",
    "sys.path.append(\"./lib\")"
   ]
  },
  {
   "cell_type": "code",
   "execution_count": null,
   "metadata": {},
   "outputs": [],
   "source": [
    "import torch\n",
    "import matplotlib.pyplot as plt\n",
    "import torchvision\n",
    "from torchvision import datasets, models, transforms\n",
    "import torch.nn as nn\n",
    "import torch.optim as optim\n",
    "from torch.optim import lr_scheduler\n",
    "import numpy as np\n",
    "import cv2\n",
    "import random\n",
    "import os\n",
    "import numpy as np\n",
    "import json\n",
    "import time\n",
    "import copy\n",
    "from PIL import Image\n",
    "from PIL import Image\n",
    "import extract_EmbedingFeature_densenet121 #这里这个包是基于原生densenet修改的返回值是分类结果，EmbedingFeature特征\n",
    "import sklearn"
   ]
  },
  {
   "cell_type": "markdown",
   "metadata": {},
   "source": [
    "# Data Pre_Process"
   ]
  },
  {
   "cell_type": "code",
   "execution_count": null,
   "metadata": {},
   "outputs": [],
   "source": [
    "'''\n",
    "Define data_transforms，将训练及测试验证的图片裁剪到256\n",
    "随机扩增并转换到tensor,(256,256,3)-->（3,256,256） 并将（0，255）->归一化到 (0,1)\n",
    "transforms.Normalize做规范化，(0,1)-->(-1,1),加速收敛，防止梯度消失\n",
    "'''\n",
    "\n",
    "data_transforms = {\n",
    "    'test': transforms.Compose([\n",
    "        transforms.Resize(256),\n",
    "        transforms.ToTensor(),\n",
    "        transforms.Normalize([0.485, 0.456, 0.406], [0.229, 0.224, 0.225])\n",
    "    ])\n",
    "}"
   ]
  },
  {
   "cell_type": "markdown",
   "metadata": {},
   "source": [
    "# Define反规范化 保存测试结果图像的函数"
   ]
  },
  {
   "cell_type": "code",
   "execution_count": null,
   "metadata": {},
   "outputs": [],
   "source": [
    "def transform_invert(img):\n",
    "    \"\"\"\n",
    "    将data 进行反transfrom操作\n",
    "    :param img_: tensor\n",
    "    :param transform_train: torchvision.transforms\n",
    "    :return: PIL image\n",
    "    \"\"\"\n",
    "    img = img.transpose(0, 2).transpose(0, 1)  # C*H*W --> H*W*C\n",
    "    img = np.array(img) * 255\n",
    "\n",
    "    if img.shape[2] == 3:\n",
    "        img = Image.fromarray(img.astype('uint8')).convert('RGB')\n",
    "    elif img.shape[2] == 1:\n",
    "        img = Image.fromarray(img.astype('uint8').squeeze())\n",
    "    else:\n",
    "        raise Exception(\"Invalid img shape, expected 1 or 3 in axis 2, but got {}!\".format(img.shape[2]) )\n",
    "\n",
    "    return img"
   ]
  },
  {
   "cell_type": "markdown",
   "metadata": {},
   "source": [
    "# Load Data"
   ]
  },
  {
   "cell_type": "code",
   "execution_count": null,
   "metadata": {},
   "outputs": [],
   "source": [
    "'''\n",
    "给出data路径\n",
    "文件格式，czx_fire_30k路径下有三个文件夹\n",
    "- train\n",
    "------fire\n",
    "------nofire\n",
    "- val\n",
    "------fire\n",
    "------nofire\n",
    "- test\n",
    "------fire\n",
    "------nofire\n",
    "'''\n",
    "x='test'\n",
    "data_dir = './data/czx_fire_30k'\n",
    "image_datasets = {x: datasets.ImageFolder(os.path.join(data_dir, x),\n",
    "                                          data_transforms[x])}\n",
    "dataloaders = {x: torch.utils.data.DataLoader(image_datasets[x], batch_size=32,\n",
    "                                             shuffle=True, num_workers=8)}\n",
    "dataset_sizes = {x: len(image_datasets[x])}\n",
    "class_names = image_datasets['test'].classes\n",
    "testloader=dataloaders['test']\n",
    "print(class_names)"
   ]
  },
  {
   "cell_type": "markdown",
   "metadata": {},
   "source": [
    "# Imshow Image"
   ]
  },
  {
   "cell_type": "code",
   "execution_count": null,
   "metadata": {},
   "outputs": [],
   "source": [
    "def imshow(inp, title=None):\n",
    "    \"\"\"Imshow for Tensor.\"\"\"\n",
    "    inp = inp.numpy().transpose((1, 2, 0))\n",
    "    mean = np.array([0.485, 0.456, 0.406])\n",
    "    std = np.array([0.229, 0.224, 0.225])\n",
    "    inp = std * inp + mean\n",
    "    inp = np.clip(inp, 0, 1)\n",
    "    plt.imshow(inp)\n",
    "    if title is not None:\n",
    "        plt.title(title)\n",
    "    plt.pause(0.001)  # pause a bit so that plots are updated\n",
    "\n",
    "\n",
    "# Get a batch of training data\n",
    "inputs, classes = next(iter(dataloaders['test']))\n",
    "\n",
    "# Make a grid from batch\n",
    "out = torchvision.utils.make_grid(inputs)\n",
    "\n",
    "imshow(out, title=[class_names[x] for x in classes])"
   ]
  },
  {
   "cell_type": "markdown",
   "metadata": {},
   "source": [
    "# Define Test Function"
   ]
  },
  {
   "cell_type": "code",
   "execution_count": null,
   "metadata": {},
   "outputs": [],
   "source": [
    "def test_model(model_path, testloader,TestResult_path):\n",
    "    device = torch.device(\"cuda:0\" if torch.cuda.is_available() else \"cpu\")\n",
    "    model = models.densenet121(pretrained=False)\n",
    "    #model = extract_EmbedingFeature_densenet121.densenet121(pretrained=False) #这里如果是需要抽特征的用这句，test也是\n",
    "    num_ftrs = model.classifier.in_features\n",
    "    model.classifier = nn.Linear(num_ftrs, 2)\n",
    "    #这里注意下，如果训练的时候用的多gpu必须加上这句，并且gpu号数对应，单gpu训练不需要\n",
    "    model = torch.nn.DataParallel(model) \n",
    "    model = model.to(device)\n",
    "    model.load_state_dict(torch.load(model_path))\n",
    "    model.eval()                          #测试时必须加这句， 否则的话，有输入数据，即使不训练，它也会改变权值\n",
    "    print('model load done')\n",
    "    \n",
    "    #下面开始测试\n",
    "    with torch.no_grad():\n",
    "        mean=[0.485, 0.456, 0.406]\n",
    "        std=[0.229, 0.224, 0.225]\n",
    "        index=0\n",
    "        index_fire=0\n",
    "        index_nofire=0\n",
    "        for data in testloader:\n",
    "            #if index==0:\n",
    "            images_numpy, labels = data\n",
    "            images, labels = images_numpy.to(device), labels.to(device)\n",
    "            # 预测\n",
    "            #outputs,featute = model(images)  #这里是用到embedding_feature_densenet时可以选择打开\n",
    "            outputs = model(images)\n",
    "            #print(featute.shape)\n",
    "            # 我们的网络输出的实际上是个概率分布，去最大概率的哪一项作为预测分类\n",
    "            pred= torch.max(outputs, 1)[1]\n",
    "            try:\n",
    "                for i in range(32):       #这里的 range 32跟batchsize要匹配\n",
    "                    images=images_numpy[i]\n",
    "                    for j in range(len(mean)): #反标准化保存\n",
    "                        images[j] = images_numpy[i][j] * std[j] + mean[j]\n",
    "                    images=transform_invert(images)\n",
    "                    label=pred[i].cpu().detach().numpy()\n",
    "                    index +=1\n",
    "                    if label==1:\n",
    "                        index_nofire+=1\n",
    "                        result_nofire_path=TestResult_path+'nofire/'\n",
    "                        if not os.path.exists(result_nofire_path):\n",
    "                            os.makedirs(result_nofire_path)\n",
    "                        images.save(result_nofire_path+str(index)+'.jpg')\n",
    "                    else:\n",
    "                        index_fire+=1\n",
    "                        result_fire_path=TestResult_path+'fire/'\n",
    "                        if not os.path.exists(result_fire_path):\n",
    "                            os.makedirs(result_fire_path)\n",
    "                        images.save(result_fire_path+str(index)+'.jpg')\n",
    "            except:\n",
    "                print('batchsize cannot reach 32')  #这里的32是前面我们设定的batchsize\n",
    "                \n",
    "    print('Test and Save result done\\nTest %d images done\\nFire: %d images\\nNoFire: %d images'%(index,index_fire,index_nofire))"
   ]
  },
  {
   "cell_type": "markdown",
   "metadata": {},
   "source": [
    "# Test"
   ]
  },
  {
   "cell_type": "code",
   "execution_count": null,
   "metadata": {},
   "outputs": [],
   "source": [
    "model_path='../fire_RGB_classify_pro/300.pth'\n",
    "TestResult_path='./data/czx_fire_30k/result/'+x+'/'\n",
    "if not os.path.exists(TestResult_path):\n",
    "    os.makedirs(TestResult_path)\n",
    "\n",
    "test_model(model_path, testloader,TestResult_path)"
   ]
  },
  {
   "cell_type": "code",
   "execution_count": null,
   "metadata": {},
   "outputs": [],
   "source": []
  }
 ],
 "metadata": {
  "kernelspec": {
   "display_name": "Python 3",
   "language": "python",
   "name": "python3"
  },
  "language_info": {
   "codemirror_mode": {
    "name": "ipython",
    "version": 3
   },
   "file_extension": ".py",
   "mimetype": "text/x-python",
   "name": "python",
   "nbconvert_exporter": "python",
   "pygments_lexer": "ipython3",
   "version": "3.6.9"
  }
 },
 "nbformat": 4,
 "nbformat_minor": 4
}
